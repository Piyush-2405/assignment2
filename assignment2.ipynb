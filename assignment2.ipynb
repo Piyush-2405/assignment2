{
 "cells": [
  {
   "cell_type": "markdown",
   "id": "47acbadb-68f1-4511-9c94-024076da589f",
   "metadata": {},
   "source": [
    "1. Write a program to accept percentage from the user and display the grade according to the following \n",
    "criteria: \n",
    "Marks \n",
    "Grade \n",
    ">90 \n",
    "A \n",
    ">80 and <=90 \n",
    "B \n",
    ">=60 and <=80 \n",
    "C \n",
    "below 60 \n",
    "D \n"
   ]
  },
  {
   "cell_type": "code",
   "execution_count": 3,
   "id": "e3a15a65-4b60-41f1-9027-28ad31f85d3b",
   "metadata": {},
   "outputs": [
    {
     "name": "stdin",
     "output_type": "stream",
     "text": [
      "enter marks  99\n"
     ]
    },
    {
     "name": "stdout",
     "output_type": "stream",
     "text": [
      "grade is A\n"
     ]
    }
   ],
   "source": [
    "marks = int(input(\"enter marks \"))\n",
    "if marks > 90 :\n",
    "    print(\"grade is A\")\n",
    "elif marks > 80 and marks <= 90 :\n",
    "    print(\"grade is B\")\n",
    "elif marks >= 60 and marks <= 80 :\n",
    "    print(\"grade is C\")\n",
    "else :\n",
    "    print(\"grade is D\")\n",
    "    "
   ]
  },
  {
   "cell_type": "markdown",
   "id": "ea193672-d5f3-4144-b5b7-8097dab0888b",
   "metadata": {},
   "source": [
    "2. Write a program to accept the cost price of a bike and display the road tax to be paid according to the following criteria:\n",
    " \n",
    "Tax                  Cost Price(in Rs) \n",
    "15%                  >100000 \n",
    "10%                  >50000 and <= 100000\n",
    "5%                   <= 50000\n"
   ]
  },
  {
   "cell_type": "code",
   "execution_count": 8,
   "id": "2cbf7eec-1476-4c6f-9bf3-862a46e4e98f",
   "metadata": {},
   "outputs": [
    {
     "name": "stdin",
     "output_type": "stream",
     "text": [
      "enter the cost price 60000\n"
     ]
    },
    {
     "name": "stdout",
     "output_type": "stream",
     "text": [
      "tax will be 10%\n"
     ]
    }
   ],
   "source": [
    "cost_price = int(input(\"enter the cost price\"))\n",
    "if cost_price > 100000 :\n",
    "                 print(\"tax will be 15%\")\n",
    "elif cost_price > 50000 and cost_price <= 100000 :\n",
    "                 print(\"tax will be 10%\")\n",
    "elif cost_price <= 50000 :\n",
    "                 print(\"tax will be 5%\")\n",
    "                 "
   ]
  },
  {
   "cell_type": "markdown",
   "id": "b91817ab-bdc5-4d43-8c3d-886fe9b334b9",
   "metadata": {},
   "source": [
    "3. Accept any city from the user and display monuments of that city. \n",
    "City         Monument\n",
    "Delhi        Red Fort\n",
    "Agra         Taj Mahal \n",
    "Jaipur       Jal Mahal\n",
    " "
   ]
  },
  {
   "cell_type": "code",
   "execution_count": 1,
   "id": "ec70bd89-dd04-4538-b58b-63c9b98524cd",
   "metadata": {},
   "outputs": [],
   "source": [
    "city_monument = {'Delhi' : \"Red Ford\", \"Agra\" : \"Taj Mahal\", \"Jaipur\" : \"Jal Mahal\"}"
   ]
  },
  {
   "cell_type": "code",
   "execution_count": 2,
   "id": "4d141d9d-f1f8-4020-96ea-062689210660",
   "metadata": {},
   "outputs": [
    {
     "data": {
      "text/plain": [
       "{'Delhi': 'Red Ford', 'Agra': 'Taj Mahal', 'Jaipur': 'Jal Mahal'}"
      ]
     },
     "execution_count": 2,
     "metadata": {},
     "output_type": "execute_result"
    }
   ],
   "source": [
    "city_monument"
   ]
  },
  {
   "cell_type": "code",
   "execution_count": 3,
   "id": "4d30fd69-68c4-4a8a-ab11-13a11d7ff637",
   "metadata": {},
   "outputs": [
    {
     "data": {
      "text/plain": [
       "'Red Ford'"
      ]
     },
     "execution_count": 3,
     "metadata": {},
     "output_type": "execute_result"
    }
   ],
   "source": [
    "city_monument['Delhi']"
   ]
  },
  {
   "cell_type": "code",
   "execution_count": 4,
   "id": "9c2336a0-f6a5-4118-b0c4-32d62d985f3e",
   "metadata": {},
   "outputs": [
    {
     "data": {
      "text/plain": [
       "'Taj Mahal'"
      ]
     },
     "execution_count": 4,
     "metadata": {},
     "output_type": "execute_result"
    }
   ],
   "source": [
    "city_monument['Agra']"
   ]
  },
  {
   "cell_type": "code",
   "execution_count": 5,
   "id": "226698e3-e8e0-45b0-b60c-2a242ce0e637",
   "metadata": {},
   "outputs": [
    {
     "data": {
      "text/plain": [
       "'Jal Mahal'"
      ]
     },
     "execution_count": 5,
     "metadata": {},
     "output_type": "execute_result"
    }
   ],
   "source": [
    "city_monument['Jaipur']"
   ]
  },
  {
   "cell_type": "markdown",
   "id": "904f32d4-c4dc-4335-a352-36812d997c41",
   "metadata": {},
   "source": [
    "4. Check how many times a given number can be divided by 3 before it is less than or equal to 10."
   ]
  },
  {
   "cell_type": "code",
   "execution_count": null,
   "id": "4dbb920c-455c-40ee-be84-4b1f46da9e8a",
   "metadata": {},
   "outputs": [],
   "source": []
  },
  {
   "cell_type": "markdown",
   "id": "1f42d88e-f4e7-4ff7-9178-9db8c2612150",
   "metadata": {},
   "source": [
    "5. Why and When to Use while Loop in Python give a detailed description with example "
   ]
  },
  {
   "cell_type": "markdown",
   "id": "ad112907-e2fb-4704-b115-2afe47ce8a9a",
   "metadata": {},
   "source": [
    "Python while loop is used to run a block code until a certain condition is met. Here, A while loop evaluates the condition. If the condition evaluates to True , the code inside the while loop is executed.\n",
    "While loop is used when the number of iterations is already Unknown. In the while loop, it can be repeated at every iteration."
   ]
  },
  {
   "cell_type": "markdown",
   "id": "c4480d8c-104c-4221-b579-5257df03255e",
   "metadata": {},
   "source": [
    "6. Use nested while loop to print 3 different pattern. "
   ]
  },
  {
   "cell_type": "code",
   "execution_count": 6,
   "id": "ba645b63-8c4c-4785-a2ee-6764c689d63f",
   "metadata": {},
   "outputs": [
    {
     "name": "stdout",
     "output_type": "stream",
     "text": [
      "0 1 2 3 \n",
      "0 2 4 6 \n",
      "0 3 6 9 \n",
      "0 4 8 12 \n"
     ]
    }
   ],
   "source": [
    "i = 1\n",
    "while i <= 4 :\n",
    "    j = 0\n",
    "    while  j <= 3 :\n",
    "        print(i*j, end=\" \")\n",
    "        j += 1\n",
    "    print()\n",
    "    i += 1"
   ]
  },
  {
   "cell_type": "code",
   "execution_count": 7,
   "id": "78c414e7-45f9-4fa2-afe6-985b0b66ec61",
   "metadata": {},
   "outputs": [
    {
     "name": "stdout",
     "output_type": "stream",
     "text": [
      "0 0 0 0 0 0 \n",
      "0 1 2 3 4 5 \n",
      "0 2 4 6 8 10 \n",
      "0 3 6 9 12 15 \n",
      "\n",
      "0 0 0 0 0 0 \n",
      "0 2 4 6 8 10 \n",
      "0 4 8 12 16 20 \n",
      "0 6 12 18 24 30 \n",
      "\n",
      "0 0 0 0 0 0 \n",
      "0 3 6 9 12 15 \n",
      "0 6 12 18 24 30 \n",
      "0 9 18 27 36 45 \n",
      "\n",
      "0 0 0 0 0 0 \n",
      "0 4 8 12 16 20 \n",
      "0 8 16 24 32 40 \n",
      "0 12 24 36 48 60 \n",
      "\n"
     ]
    }
   ],
   "source": [
    "i = 1\n",
    "while i <= 4 :\n",
    "    j = 0\n",
    "    while  j <= 3 :\n",
    "        k = 0\n",
    "        while  k <= 5 :\n",
    "            print(i*j*k, end=\" \")\n",
    "            k += 1\n",
    "        print()\n",
    "        j += 1\n",
    "    print()\n",
    "    i += 1"
   ]
  },
  {
   "cell_type": "markdown",
   "id": "18837ad5-376e-4793-9733-01a60c3e3e49",
   "metadata": {},
   "source": [
    "7. Reverse a while loop to display numbers from 10 to 1. "
   ]
  },
  {
   "cell_type": "code",
   "execution_count": 1,
   "id": "8a2eda15-0a94-48fa-9c24-0c142d7e130d",
   "metadata": {},
   "outputs": [
    {
     "name": "stdout",
     "output_type": "stream",
     "text": [
      "10\n",
      "9\n",
      "8\n",
      "7\n",
      "6\n",
      "5\n",
      "4\n",
      "3\n",
      "2\n",
      "1\n"
     ]
    }
   ],
   "source": [
    "a = 10\n",
    "while a >= 1 :\n",
    "    print(a)\n",
    "    a = a-1"
   ]
  },
  {
   "cell_type": "markdown",
   "id": "d10faf7a-b62d-4a06-a8f3-364cd2baccb6",
   "metadata": {},
   "source": [
    "8. Reverse a for loop to display numbers from 10 to 1 ."
   ]
  },
  {
   "cell_type": "code",
   "execution_count": 3,
   "id": "24ae7310-83c7-4e64-9b97-d00d9457721e",
   "metadata": {},
   "outputs": [
    {
     "name": "stdout",
     "output_type": "stream",
     "text": [
      "10\n",
      "9\n",
      "8\n",
      "7\n",
      "6\n",
      "5\n",
      "4\n",
      "3\n",
      "2\n",
      "1\n"
     ]
    }
   ],
   "source": [
    "a = 10\n",
    "for i in range(a):\n",
    "    print(a)\n",
    "    a = a-1"
   ]
  },
  {
   "cell_type": "code",
   "execution_count": null,
   "id": "ad719d9f-95f5-48fc-be0a-ddbead272fa0",
   "metadata": {},
   "outputs": [],
   "source": []
  }
 ],
 "metadata": {
  "kernelspec": {
   "display_name": "Python 3 (ipykernel)",
   "language": "python",
   "name": "python3"
  },
  "language_info": {
   "codemirror_mode": {
    "name": "ipython",
    "version": 3
   },
   "file_extension": ".py",
   "mimetype": "text/x-python",
   "name": "python",
   "nbconvert_exporter": "python",
   "pygments_lexer": "ipython3",
   "version": "3.10.8"
  }
 },
 "nbformat": 4,
 "nbformat_minor": 5
}
